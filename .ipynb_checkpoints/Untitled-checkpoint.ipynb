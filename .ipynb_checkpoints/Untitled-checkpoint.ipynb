{
 "cells": [
  {
   "cell_type": "code",
   "execution_count": null,
   "id": "f1df348c-8783-4807-ae55-72ddc4ad7799",
   "metadata": {},
   "outputs": [],
   "source": [
    "import matplotlib.pyplot as plt\n",
    "import requests\n",
    "import pandas as pd\n",
    "import time\n",
    "import json\n",
    "\n",
    "data = []\n",
    "\n",
    "for i in range(0,100):\n",
    "    response = requests.get('http://api.open-notify.org/iss-now.json')\n",
    "    text = response.text\n",
    "    ans = json.loads(text)\n",
    "    \n",
    "    data.append((ans['timestamp'], ans['iss_position']['longitude'], ans['iss_position']['latitude']))\n",
    "    time.sleep(10)\n",
    "    \n",
    "df = pd.DataFrame(data, columns = ['Timestamp', 'Longitude', 'Latitude'])\n",
    "print(df)"
   ]
  },
  {
   "cell_type": "code",
   "execution_count": null,
   "id": "a7494a84-3766-4f04-a469-7e51ae1945ec",
   "metadata": {},
   "outputs": [],
   "source": [
    "df.to_csv('iss-data.csv')\n",
    "df=pd.read_csv('iss-data.csv')"
   ]
  },
  {
   "cell_type": "code",
   "execution_count": null,
   "id": "37bc132f-869a-4496-85c4-9fcb749990fb",
   "metadata": {},
   "outputs": [],
   "source": [
    "df"
   ]
  },
  {
   "cell_type": "code",
   "execution_count": null,
   "id": "130b2e0e-4352-4637-aa5c-63d0631e6011",
   "metadata": {},
   "outputs": [],
   "source": [
    "x = df['Longitude']\n",
    "x"
   ]
  },
  {
   "cell_type": "code",
   "execution_count": null,
   "id": "4924b36e-af1a-45c6-8cab-4bd799b47bde",
   "metadata": {},
   "outputs": [],
   "source": [
    "y = df['Latitude']\n",
    "y"
   ]
  },
  {
   "cell_type": "code",
   "execution_count": null,
   "id": "8dfaa6d8-e71b-47e1-8b63-1d88a1ba236f",
   "metadata": {},
   "outputs": [],
   "source": [
    "plt.plot(x, y, 'm')\n",
    "plt.xlabel('Longitude')\n",
    "plt.ylabel('Latitude')\n",
    "plt.title('ISS Path')\n",
    "plt.show()"
   ]
  },
  {
   "cell_type": "code",
   "execution_count": null,
   "id": "e3e6b670-cb20-47fb-bde3-2295615e2c2d",
   "metadata": {},
   "outputs": [],
   "source": []
  },
  {
   "cell_type": "code",
   "execution_count": null,
   "id": "31bc91ea-eecf-4fc3-bb3a-50ff8d2dbeae",
   "metadata": {},
   "outputs": [],
   "source": []
  }
 ],
 "metadata": {
  "kernelspec": {
   "display_name": "Python 3 (ipykernel)",
   "language": "python",
   "name": "python3"
  },
  "language_info": {
   "codemirror_mode": {
    "name": "ipython",
    "version": 3
   },
   "file_extension": ".py",
   "mimetype": "text/x-python",
   "name": "python",
   "nbconvert_exporter": "python",
   "pygments_lexer": "ipython3",
   "version": "3.9.12"
  }
 },
 "nbformat": 4,
 "nbformat_minor": 5
}
