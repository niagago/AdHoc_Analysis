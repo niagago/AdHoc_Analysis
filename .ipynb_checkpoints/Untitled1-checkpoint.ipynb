{
 "cells": [
  {
   "cell_type": "code",
   "execution_count": null,
   "id": "bd4f74f8-c5ae-4dcd-9024-f6168c90977f",
   "metadata": {},
   "outputs": [],
   "source": [
    "import matplotlib.pyplot as plt\n",
    "import requests as rq\n",
    "import pandas as pd\n",
    "import time\n",
    "import json\n",
    "\n",
    "data = []\n",
    "\n",
    "for i in range(0,5):\n",
    "    response = rq.get('http://api.open-notify.org/iss-now.json')\n",
    "    text = response.text\n",
    "    ans = json.loads(text)\n",
    "    \n",
    "    data.append((ans['timestamp'], ans['iss_position']['longitude'], ans['iss_position']['latitude']))\n",
    "    time.sleep(10)\n",
    "    \n",
    "df = pd.DataFrame(data, columns = ['Timestamp', 'Longitude', 'Latitude'])\n",
    "print(df)"
   ]
  },
  {
   "cell_type": "code",
   "execution_count": null,
   "id": "f0c9b609-e2eb-4c04-9248-d20fa0398d13",
   "metadata": {},
   "outputs": [],
   "source": []
  },
  {
   "cell_type": "code",
   "execution_count": null,
   "id": "c8999a03-bc96-47f5-adda-11dd3e74870f",
   "metadata": {},
   "outputs": [],
   "source": []
  },
  {
   "cell_type": "code",
   "execution_count": null,
   "id": "c9585481-dcae-4f97-b80c-f5478cf4c783",
   "metadata": {},
   "outputs": [],
   "source": []
  }
 ],
 "metadata": {
  "kernelspec": {
   "display_name": "Python 3 (ipykernel)",
   "language": "python",
   "name": "python3"
  },
  "language_info": {
   "codemirror_mode": {
    "name": "ipython",
    "version": 3
   },
   "file_extension": ".py",
   "mimetype": "text/x-python",
   "name": "python",
   "nbconvert_exporter": "python",
   "pygments_lexer": "ipython3",
   "version": "3.9.12"
  }
 },
 "nbformat": 4,
 "nbformat_minor": 5
}
